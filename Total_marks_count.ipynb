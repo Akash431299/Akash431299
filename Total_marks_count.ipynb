{
  "nbformat": 4,
  "nbformat_minor": 0,
  "metadata": {
    "colab": {
      "provenance": [],
      "name": "Total marks count.ipynb",
      "authorship_tag": "ABX9TyPhezWwYMVyNEFq6244O5Ad",
      "include_colab_link": true
    },
    "kernelspec": {
      "name": "python3",
      "display_name": "Python 3"
    },
    "language_info": {
      "name": "python"
    }
  },
  "cells": [
    {
      "cell_type": "markdown",
      "metadata": {
        "id": "view-in-github",
        "colab_type": "text"
      },
      "source": [
        "<a href=\"https://colab.research.google.com/github/Akash431299/Akash431299/blob/main/Total_marks_count.ipynb\" target=\"_parent\"><img src=\"https://colab.research.google.com/assets/colab-badge.svg\" alt=\"Open In Colab\"/></a>"
      ]
    },
    {
      "cell_type": "code",
      "source": [
        "a=0\n",
        "for i in range(5):\n",
        " a=i\n",
        " print (a)"
      ],
      "metadata": {
        "colab": {
          "base_uri": "https://localhost:8080/"
        },
        "id": "qf2p-xSbKbRF",
        "outputId": "4c211993-5ad2-49ee-8f8d-27d29d67709d"
      },
      "execution_count": null,
      "outputs": [
        {
          "output_type": "stream",
          "name": "stdout",
          "text": [
            "0\n",
            "1\n",
            "2\n",
            "3\n",
            "4\n"
          ]
        }
      ]
    },
    {
      "cell_type": "code",
      "source": [
        "\n",
        "i=0\n",
        "while i<10:\n",
        "    if(i%2==0):\n",
        "       print(i)\n",
        "    i+=1"
      ],
      "metadata": {
        "colab": {
          "base_uri": "https://localhost:8080/"
        },
        "id": "eY-v5_BuM4eo",
        "outputId": "3e4d199d-8a7d-4888-e121-6244ddc0f38a"
      },
      "execution_count": null,
      "outputs": [
        {
          "output_type": "stream",
          "name": "stdout",
          "text": [
            "0\n",
            "2\n",
            "4\n",
            "6\n",
            "8\n"
          ]
        }
      ]
    },
    {
      "cell_type": "code",
      "source": [],
      "metadata": {
        "id": "QzaOAd1vMx8S"
      },
      "execution_count": null,
      "outputs": []
    },
    {
      "cell_type": "code",
      "source": [
        "marks=(35,40,58,48)\n",
        "total=0\n",
        "for marks in marks:\n",
        "    total+=marks\n",
        "    print(\"total marks\",total)"
      ],
      "metadata": {
        "id": "opNaXopqmXwt",
        "outputId": "50da2a7e-6e05-4f2f-e17f-868728392113",
        "colab": {
          "base_uri": "https://localhost:8080/"
        }
      },
      "execution_count": 15,
      "outputs": [
        {
          "output_type": "stream",
          "name": "stdout",
          "text": [
            "total marks 35\n",
            "total marks 75\n",
            "total marks 133\n",
            "total marks 181\n"
          ]
        }
      ]
    }
  ]
}