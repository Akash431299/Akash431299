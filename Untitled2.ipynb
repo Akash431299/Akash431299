{
  "nbformat": 4,
  "nbformat_minor": 0,
  "metadata": {
    "colab": {
      "provenance": [],
      "authorship_tag": "ABX9TyP0VlUbTvFyfy6sDxv83mOX",
      "include_colab_link": true
    },
    "kernelspec": {
      "name": "python3",
      "display_name": "Python 3"
    },
    "language_info": {
      "name": "python"
    }
  },
  "cells": [
    {
      "cell_type": "markdown",
      "metadata": {
        "id": "view-in-github",
        "colab_type": "text"
      },
      "source": [
        "<a href=\"https://colab.research.google.com/github/Akash431299/Akash431299/blob/main/Untitled2.ipynb\" target=\"_parent\"><img src=\"https://colab.research.google.com/assets/colab-badge.svg\" alt=\"Open In Colab\"/></a>"
      ]
    },
    {
      "cell_type": "code",
      "execution_count": 2,
      "metadata": {
        "colab": {
          "base_uri": "https://localhost:8080/"
        },
        "id": "DvAnG5_5xdqd",
        "outputId": "9aa9df2e-4e02-46f0-eb37-385f7f990ff1"
      },
      "outputs": [
        {
          "output_type": "stream",
          "name": "stdout",
          "text": [
            "enter year marks1\n",
            "fail\n"
          ]
        }
      ],
      "source": [
        "A=int(input(\"enter year marks\"))\n",
        "if(A<35):\n",
        "  print(\"fail\")\n",
        "elif(A<60):\n",
        "  print(\"c grade\")\n",
        "elif(A<80):\n",
        "  print(\"b grade\")\n",
        "elif (A<100):\n",
        "  print (\"a grade\")\n",
        "else:\n",
        "  print (\"wrong input\")"
      ]
    }
  ]
}